{
 "cells": [
  {
   "cell_type": "code",
   "execution_count": 1,
   "metadata": {},
   "outputs": [
    {
     "name": "stdout",
     "output_type": "stream",
     "text": [
      "1.252784742257823\n",
      "/home/qpitto/Tests_KAIN/test_LiH/run/orbitals/phi_p_scf_idx_0_re\n",
      "/home/qpitto/Tests_KAIN/test_LiH/run/orbitals/phi_p_scf_idx_1_re\n",
      "[[ 1.00000000e+00 -5.85398493e-05]\n",
      " [-5.85398493e-05  1.00000000e+00]]\n",
      "U= [[-0.70710678 -0.70710678]\n",
      " [-0.70710678  0.70710678]]\n",
      "Start perturbation\n",
      "Contructor passed\n",
      "mu_0 =  2.362527368505736\n",
      "mu_1 =  1.281867798041958e-05\n",
      "mu_2 =  1.2818677979642423e-05\n",
      "TEST bim\n",
      "Test: 0, 0 -2.2282721724443482e-16\n",
      "Test: 0, 1 2.599349300114485e-16\n",
      "Test: 1, 0 2.275716542497842e-17\n",
      "Test: 1, 1 -7.742654216271391e-16\n"
     ]
    }
   ],
   "source": [
    "from vampyr import vampyr3d as vp\n",
    "import numpy as np\n",
    "import matplotlib.pyplot as plt\n",
    "# from copy import deepcopy\n",
    "\n",
    "# import KAIN\n",
    "# import utils\n",
    "from scfsolv import scfsolv as ss\n",
    "from scfsolv import scfsolv_1stpert as ss1\n",
    "\n",
    "prec = 1.0e-4\n",
    "khist = 5\n",
    "thrs = prec*10\n",
    "# Pord = 1 #maximum pertubation order computed\n",
    "\n",
    "# r_x = np.linspace(-16, 16, 10000) # create an evenly spaced set of points between -0.99 and 0.99\n",
    "# r_y = np.linspace(-16, 16, 10000)\n",
    "# r_z = np.linspace(-16, 16, 10000)\n",
    "# r = [r_x, r_y, r_z]\n",
    "\n",
    "tut =np.array ([-0.653276, -0.755877, -0.755877])\n",
    "print(np.linalg.norm(tut))\n",
    "\n",
    "Electric_field = [0.01, 0., 0.]\n",
    "# Analytic nuclear potential\n",
    "# print(\"pouet\")\n",
    "#LiH\n",
    "# R, Z, pathMol, nOrb = [[1.508001,  0.188973, 0.188973], [-1.508001,  0.188973, 0.188973]], [3,1], \"/home/qpitto/Tests_KAIN/test_LiH/norun/orbitals/\", 2 #Initial guess\n",
    "R, Z, pathMol, nOrb = [[1.508001,  0.188973, 0.188973], [-1.508001,  0.188973, 0.188973]], [3,1], \"/home/qpitto/Tests_KAIN/test_LiH/run/orbitals/\", 2 #LiH\n",
    "#Ne\n",
    "# R, Z, pathMol, nOrb = [[0.100, 0.100, 0.100]], [10], \"/home/qpitto/Tests_KAIN/test_Ne/norun/orbitals/phi_p_scf_\", 5 #Ne\n",
    "#H2O\n",
    "# R, Z, pathMol, nOrb = [[0.0000,  0.000, -0.125], [-1.4375,  0.000,  1.025], [1.4375,  0.000,  1.025]], [8,1,1], \"/home/qpitto/Tests_KAIN/test_water/run/orbitals/\", 5 #H2O\n",
    "# R, Z, pathMol, nOrb = [[0.0000,  0.000, -0.125], [-1.4375,  0.000,  1.025], [1.4375,  0.000,  1.025]], [8,1,1], \"/home/qpitto/Tests_KAIN/initial_guesses/phi_p_scf_\", 5 #H2O\n",
    "#CH4\n",
    "# R, Z, pathMol, nOrb = [[0.1, 0.1, 0.1], [0.1, 0.1, 2.15413215], [2.03631019, 0.1, -0.5856834], [-0.54635362, 1.92524633, -0.5856834], [-0.54635362, -1.72524633, -0.5856834]], [6,1,1,1,1], \"/home/qpitto/Tests_KAIN/test_CH4/norun/orbitals/\", 5 #CH4\n",
    "\n",
    "nz = len(Z)\n",
    "\n",
    "#create scf solver instance with default MRA\n",
    "Scfs = ss(prec, khist)\n",
    "\n",
    "#initialise molecule geometry and properties\n",
    "Scfs.init_molec(nOrb, R, Z, pathMol)\n",
    "#run the SCF solver\n",
    "# Scfs.scfRun(thrs, True, True)\n",
    "\n",
    "# print(\"Sanity test\")\n",
    "# for i in range(len(Scfs.phi_prev)):\n",
    "#     for j in range(len(Scfs.phi_prev)):\n",
    "#         print(f\"Test: {i}, {j}\", vp.dot(Scfs.phi_prev[i][-1], Scfs.phi_prev[j][-1]))\n",
    "\n",
    "print(\"Start perturbation\")\n",
    "Scfs_pert = ss1(Scfs)\n",
    "\n",
    "print(\"Contructor passed\")\n",
    "Scfs_pert.init_molec(Electric_field)\n",
    "\n",
    "Scfs_pert.scfRun(thrs, True, True)"
   ]
  }
 ],
 "metadata": {
  "kernelspec": {
   "display_name": "Stdpy",
   "language": "python",
   "name": "python3"
  },
  "language_info": {
   "codemirror_mode": {
    "name": "ipython",
    "version": 3
   },
   "file_extension": ".py",
   "mimetype": "text/x-python",
   "name": "python",
   "nbconvert_exporter": "python",
   "pygments_lexer": "ipython3",
   "version": "3.9.15"
  },
  "orig_nbformat": 4
 },
 "nbformat": 4,
 "nbformat_minor": 2
}
