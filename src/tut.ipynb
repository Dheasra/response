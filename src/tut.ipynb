{
 "cells": [
  {
   "cell_type": "code",
   "execution_count": 1,
   "metadata": {},
   "outputs": [
    {
     "name": "stdout",
     "output_type": "stream",
     "text": [
      "1.252784742257823\n",
      "/home/qpitto/Tests_KAIN/test_LiH/run/orbitals/phi_p_scf_idx_0_re\n",
      "/home/qpitto/Tests_KAIN/test_LiH/run/orbitals/phi_p_scf_idx_1_re\n",
      "[[ 1.00000000e+00 -5.85398493e-05]\n",
      " [-5.85398493e-05  1.00000000e+00]]\n",
      "U= [[-0.70710678 -0.70710678]\n",
      " [-0.70710678  0.70710678]]\n",
      "Start perturbation\n",
      "Contructor passed\n",
      "mu_0 =  2.362527368505736\n",
      "mu_1 =  1.281867798041958e-05\n",
      "mu_2 =  1.2818677979642423e-05\n",
      "Test projection to orthogonal space 0 1.5325644322872724e-15\n",
      "Test projection to orthogonal space 1 -1.4040250662866473e-15\n",
      "TEST init_molec\n",
      "Test: 0, 0 -6.787087203873391e-17\n",
      "Test: 0, 1 -2.2064829727254785e-17\n",
      "Test: 1, 0 4.4609337700041445e-17\n",
      "Test: 1, 1 -8.726009238897532e-17\n",
      "=============Iteration: 0\n",
      "Test projection to orthogonal space 0 4.885255857279769e-15\n",
      "Test projection to orthogonal space 1 6.100725488483347e-16\n",
      "Orbital: 0    Norm: [0. 0.]    Update: [0.12821442 0.40006244]    Energy:[-4.40280866 -1.3359617 ]\n",
      "Orbital: 1    Norm: [0. 0.]    Update: [0.12821442 0.40006244]    Energy:[-4.40280866 -1.3359617 ]\n",
      "=============Iteration: 1\n",
      "Test projection to orthogonal space 0 7.666847316283249e-15\n",
      "Test projection to orthogonal space 1 -6.332307084317484e-16\n",
      "Orbital: 0    Norm: [0. 0.]    Update: [0.05084654 0.45616781]    Energy:[-4.26294569 -1.2559292 ]\n",
      "Orbital: 1    Norm: [0. 0.]    Update: [0.05084654 0.45616781]    Energy:[-4.26294569 -1.2559292 ]\n",
      "=============Iteration: 2\n",
      "Test projection to orthogonal space 0 6.469121301182741e-16\n",
      "Test projection to orthogonal space 1 -1.0236478832120098e-15\n",
      "Orbital: 0    Norm: [0. 0.]    Update: [0.08940819 0.95886541]    Energy:[-3.98987709 -1.06926462]\n",
      "Orbital: 1    Norm: [0. 0.]    Update: [0.08940819 0.95886541]    Energy:[-3.98987709 -1.06926462]\n",
      "=============Iteration: 3\n"
     ]
    },
    {
     "ename": "KeyboardInterrupt",
     "evalue": "",
     "output_type": "error",
     "traceback": [
      "\u001b[0;31m---------------------------------------------------------------------------\u001b[0m",
      "\u001b[0;31mKeyboardInterrupt\u001b[0m                         Traceback (most recent call last)",
      "\u001b[1;32m/home/qpitto/Tests_KAIN/kain_git/response/src/tut.ipynb Cell 1\u001b[0m line \u001b[0;36m5\n\u001b[1;32m     <a href='vscode-notebook-cell://ssh-remote%2B7b22686f73744e616d65223a22776f6f6c662e6368656d2e7569742e6e6f222c2275736572223a2271706974746f227d/home/qpitto/Tests_KAIN/kain_git/response/src/tut.ipynb#W0sdnNjb2RlLXJlbW90ZQ%3D%3D?line=55'>56</a>\u001b[0m \u001b[39mprint\u001b[39m(\u001b[39m\"\u001b[39m\u001b[39mContructor passed\u001b[39m\u001b[39m\"\u001b[39m)\n\u001b[1;32m     <a href='vscode-notebook-cell://ssh-remote%2B7b22686f73744e616d65223a22776f6f6c662e6368656d2e7569742e6e6f222c2275736572223a2271706974746f227d/home/qpitto/Tests_KAIN/kain_git/response/src/tut.ipynb#W0sdnNjb2RlLXJlbW90ZQ%3D%3D?line=56'>57</a>\u001b[0m Scfs_pert\u001b[39m.\u001b[39minit_molec(Electric_field)\n\u001b[0;32m---> <a href='vscode-notebook-cell://ssh-remote%2B7b22686f73744e616d65223a22776f6f6c662e6368656d2e7569742e6e6f222c2275736572223a2271706974746f227d/home/qpitto/Tests_KAIN/kain_git/response/src/tut.ipynb#W0sdnNjb2RlLXJlbW90ZQ%3D%3D?line=58'>59</a>\u001b[0m Scfs_pert\u001b[39m.\u001b[39;49mscfRun(thrs, \u001b[39mTrue\u001b[39;49;00m, \u001b[39mTrue\u001b[39;49;00m)\n",
      "File \u001b[0;32m~/Tests_KAIN/kain_git/response/src/scfsolv.py:447\u001b[0m, in \u001b[0;36mscfsolv_1stpert.scfRun\u001b[0;34m(self, thrs, printVal, pltShow)\u001b[0m\n\u001b[1;32m    445\u001b[0m \u001b[39mprint\u001b[39m(\u001b[39mf\u001b[39m\u001b[39m\"\u001b[39m\u001b[39m=============Iteration: \u001b[39m\u001b[39m{\u001b[39;00miteration\u001b[39m}\u001b[39;00m\u001b[39m\"\u001b[39m)\n\u001b[1;32m    446\u001b[0m iteration \u001b[39m+\u001b[39m\u001b[39m=\u001b[39m \u001b[39m1\u001b[39m \n\u001b[0;32m--> 447\u001b[0m \u001b[39mself\u001b[39m\u001b[39m.\u001b[39mE1_n, update \u001b[39m=\u001b[39m \u001b[39mself\u001b[39;49m\u001b[39m.\u001b[39;49mexpandSolution()\n\u001b[1;32m    448\u001b[0m \u001b[39m# print(\"TEST run\")\u001b[39;00m\n\u001b[1;32m    449\u001b[0m \u001b[39m# for i in range(len(self.phi_prev)):\u001b[39;00m\n\u001b[1;32m    450\u001b[0m \u001b[39m#     for j in range(len(self.phi_prev1)):\u001b[39;00m\n\u001b[1;32m    451\u001b[0m \u001b[39m#         print(f\"Test: {i}, {j}\", vp.dot(self.phi_prev[i][-1], self.phi_prev1[j][-1]))\u001b[39;00m\n\u001b[1;32m    452\u001b[0m \u001b[39mfor\u001b[39;00m orb \u001b[39min\u001b[39;00m \u001b[39mrange\u001b[39m(\u001b[39mself\u001b[39m\u001b[39m.\u001b[39mNorb):\n\u001b[1;32m    453\u001b[0m     \u001b[39m# this will plot the wavefunction at each iteration\u001b[39;00m\n",
      "File \u001b[0;32m~/Tests_KAIN/kain_git/response/src/scfsolv.py:386\u001b[0m, in \u001b[0;36mscfsolv_1stpert.expandSolution\u001b[0;34m(self)\u001b[0m\n\u001b[1;32m    384\u001b[0m \u001b[39mself\u001b[39m\u001b[39m.\u001b[39mE1_n\u001b[39m.\u001b[39mappend(\u001b[39mself\u001b[39m\u001b[39m.\u001b[39mFock1[orb, orb])\n\u001b[1;32m    385\u001b[0m \u001b[39m#Compute new power iteration for the Helmholtz operator\u001b[39;00m\n\u001b[0;32m--> 386\u001b[0m phi_np1 \u001b[39m=\u001b[39m \u001b[39mself\u001b[39;49m\u001b[39m.\u001b[39;49mpowerIter(orb)        \n\u001b[1;32m    387\u001b[0m \u001b[39m#create an alternate history of orbitals which include the power iteration\u001b[39;00m\n\u001b[1;32m    388\u001b[0m phistory\u001b[39m.\u001b[39mappend([phi_np1])\n",
      "File \u001b[0;32m~/Tests_KAIN/kain_git/response/src/scfsolv.py:534\u001b[0m, in \u001b[0;36mscfsolv_1stpert.powerIter\u001b[0;34m(self, orb)\u001b[0m\n\u001b[1;32m    531\u001b[0m \u001b[39mfor\u001b[39;00m j \u001b[39min\u001b[39;00m \u001b[39mrange\u001b[39m(\u001b[39mself\u001b[39m\u001b[39m.\u001b[39mNorb): \n\u001b[1;32m    532\u001b[0m     \u001b[39m# phi_ortho = phi_ortho + self.Fock[0][orb, j]*self.phi_prev[j][-2][1] \u001b[39;00m\n\u001b[1;32m    533\u001b[0m     phi_ortho \u001b[39m=\u001b[39m phi_ortho \u001b[39m+\u001b[39m \u001b[39mself\u001b[39m\u001b[39m.\u001b[39mFock[orb, j]\u001b[39m*\u001b[39m\u001b[39mself\u001b[39m\u001b[39m.\u001b[39mphi_prev1[j][\u001b[39m-\u001b[39m\u001b[39m1\u001b[39m] \n\u001b[0;32m--> 534\u001b[0m Fphi \u001b[39m=\u001b[39m \u001b[39mself\u001b[39;49m\u001b[39m.\u001b[39;49morthogonalise([[\u001b[39mself\u001b[39;49m\u001b[39m.\u001b[39;49mcompFop(orb)]])[\u001b[39m0\u001b[39m] \n\u001b[1;32m    535\u001b[0m \u001b[39m# #Compute the term \\hat{rho}^0*\\hat{F}^1|phi^0_i>\u001b[39;00m\n\u001b[1;32m    536\u001b[0m \u001b[39m# rhoFphi = self.P_eps(utils.Fzero)\u001b[39;00m\n\u001b[1;32m    537\u001b[0m \u001b[39m# for j in range(self.Norb):\u001b[39;00m\n\u001b[1;32m    538\u001b[0m \u001b[39m#     rhoFphi += self.Fock1[j, orb] * self.phi_prev[j][-1]\u001b[39;00m\n\u001b[1;32m    539\u001b[0m \u001b[39m# print(len(self.G_mu), len(self.phi_prev1), len(self.K))\u001b[39;00m\n\u001b[1;32m    540\u001b[0m \u001b[39mprint\u001b[39m(\u001b[39m\"\u001b[39m\u001b[39mTest projection to orthogonal space\u001b[39m\u001b[39m\"\u001b[39m, orb, vp\u001b[39m.\u001b[39mdot(Fphi, \u001b[39mself\u001b[39m\u001b[39m.\u001b[39mphi_prev[orb][\u001b[39m-\u001b[39m\u001b[39m1\u001b[39m]))\n",
      "File \u001b[0;32m~/Tests_KAIN/kain_git/response/src/scfsolv.py:597\u001b[0m, in \u001b[0;36mscfsolv_1stpert.orthogonalise\u001b[0;34m(self, phi_in)\u001b[0m\n\u001b[1;32m    594\u001b[0m phi_tmp \u001b[39m=\u001b[39m  phi_in[i][\u001b[39m-\u001b[39m\u001b[39m1\u001b[39m]\n\u001b[1;32m    595\u001b[0m \u001b[39mfor\u001b[39;00m j \u001b[39min\u001b[39;00m \u001b[39mrange\u001b[39m(\u001b[39mself\u001b[39m\u001b[39m.\u001b[39mNorb):\n\u001b[1;32m    596\u001b[0m \u001b[39m# for j in range(limit[i]):\u001b[39;00m\n\u001b[0;32m--> 597\u001b[0m     phi_tmp \u001b[39m=\u001b[39m phi_tmp \u001b[39m-\u001b[39;49m S[i,j]\u001b[39m*\u001b[39;49m\u001b[39mself\u001b[39;49m\u001b[39m.\u001b[39;49mphi_prev[j][\u001b[39m-\u001b[39;49m\u001b[39m1\u001b[39;49m]\n\u001b[1;32m    598\u001b[0m \u001b[39m# if normalise:\u001b[39;00m\n\u001b[1;32m    599\u001b[0m \u001b[39m#     phi_tmp.normalize()\u001b[39;00m\n\u001b[1;32m    600\u001b[0m phi_ortho\u001b[39m.\u001b[39mappend(phi_tmp)\n",
      "\u001b[0;31mKeyboardInterrupt\u001b[0m: "
     ]
    },
    {
     "data": {
      "image/png": "[encoded data removed]",
      "text/plain": [
       "<Figure size 432x288 with 1 Axes>"
      ]
     },
     "metadata": {
      "needs_background": "light"
     },
     "output_type": "display_data"
    }
   ],
   "source": [
    "from vampyr import vampyr3d as vp\n",
    "import numpy as np\n",
    "import matplotlib.pyplot as plt\n",
    "# from copy import deepcopy\n",
    "\n",
    "# import KAIN\n",
    "# import utils\n",
    "from scfsolv import scfsolv as ss\n",
    "from scfsolv import scfsolv_1stpert as ss1\n",
    "\n",
    "prec = 1.0e-4\n",
    "khist = 5\n",
    "thrs = prec*10\n",
    "# Pord = 1 #maximum pertubation order computed\n",
    "\n",
    "# r_x = np.linspace(-16, 16, 10000) # create an evenly spaced set of points between -0.99 and 0.99\n",
    "# r_y = np.linspace(-16, 16, 10000)\n",
    "# r_z = np.linspace(-16, 16, 10000)\n",
    "# r = [r_x, r_y, r_z]\n",
    "\n",
    "tut =np.array ([-0.653276, -0.755877, -0.755877])\n",
    "print(np.linalg.norm(tut))\n",
    "\n",
    "Electric_field = [0.01, 0., 0.]\n",
    "# Analytic nuclear potential\n",
    "# print(\"pouet\")\n",
    "#LiH\n",
    "# R, Z, pathMol, nOrb = [[1.508001,  0.188973, 0.188973], [-1.508001,  0.188973, 0.188973]], [3,1], \"/home/qpitto/Tests_KAIN/test_LiH/norun/orbitals/\", 2 #Initial guess\n",
    "R, Z, pathMol, nOrb = [[1.508001,  0.188973, 0.188973], [-1.508001,  0.188973, 0.188973]], [3,1], \"/home/qpitto/Tests_KAIN/test_LiH/run/orbitals/\", 2 #LiH\n",
    "#Ne\n",
    "# R, Z, pathMol, nOrb = [[0.100, 0.100, 0.100]], [10], \"/home/qpitto/Tests_KAIN/test_Ne/norun/orbitals/phi_p_scf_\", 5 #Ne\n",
    "#H2O\n",
    "# R, Z, pathMol, nOrb = [[0.0000,  0.000, -0.125], [-1.4375,  0.000,  1.025], [1.4375,  0.000,  1.025]], [8,1,1], \"/home/qpitto/Tests_KAIN/test_water/run/orbitals/\", 5 #H2O\n",
    "# R, Z, pathMol, nOrb = [[0.0000,  0.000, -0.125], [-1.4375,  0.000,  1.025], [1.4375,  0.000,  1.025]], [8,1,1], \"/home/qpitto/Tests_KAIN/initial_guesses/phi_p_scf_\", 5 #H2O\n",
    "#CH4\n",
    "# R, Z, pathMol, nOrb = [[0.1, 0.1, 0.1], [0.1, 0.1, 2.15413215], [2.03631019, 0.1, -0.5856834], [-0.54635362, 1.92524633, -0.5856834], [-0.54635362, -1.72524633, -0.5856834]], [6,1,1,1,1], \"/home/qpitto/Tests_KAIN/test_CH4/norun/orbitals/\", 5 #CH4\n",
    "\n",
    "nz = len(Z)\n",
    "\n",
    "#create scf solver instance with default MRA\n",
    "Scfs = ss(prec, khist)\n",
    "\n",
    "#initialise molecule geometry and properties\n",
    "Scfs.init_molec(nOrb, R, Z, pathMol)\n",
    "#run the SCF solver\n",
    "# Scfs.scfRun(thrs, True, True)\n",
    "\n",
    "# print(\"Sanity test\")\n",
    "# for i in range(len(Scfs.phi_prev)):\n",
    "#     for j in range(len(Scfs.phi_prev)):\n",
    "#         print(f\"Test: {i}, {j}\", vp.dot(Scfs.phi_prev[i][-1], Scfs.phi_prev[j][-1]))\n",
    "\n",
    "print(\"Start perturbation\")\n",
    "Scfs_pert = ss1(Scfs)\n",
    "\n",
    "print(\"Contructor passed\")\n",
    "Scfs_pert.init_molec(Electric_field)\n",
    "\n",
    "Scfs_pert.scfRun(thrs, True, True)"
   ]
  }
 ],
 "metadata": {
  "kernelspec": {
   "display_name": "Stdpy",
   "language": "python",
   "name": "python3"
  },
  "language_info": {
   "codemirror_mode": {
    "name": "ipython",
    "version": 3
   },
   "file_extension": ".py",
   "mimetype": "text/x-python",
   "name": "python",
   "nbconvert_exporter": "python",
   "pygments_lexer": "ipython3",
   "version": "3.9.15"
  },
  "orig_nbformat": 4
 },
 "nbformat": 4,
 "nbformat_minor": 2
}
