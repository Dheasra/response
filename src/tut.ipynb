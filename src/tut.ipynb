{
 "cells": [
  {
   "cell_type": "code",
   "execution_count": 1,
   "metadata": {},
   "outputs": [
    {
     "name": "stdout",
     "output_type": "stream",
     "text": [
      "InitMolec test imag:  0.9999999999999296j\n",
      "Energy:  (-2.4318118417464345+0j) 0\n",
      "mu (2.205362483469071-0j)\n",
      "Energy:  (-0.24927783795396777+0j) 1\n",
      "mu (0.7060847512217889-0j)\n"
     ]
    },
    {
     "name": "stderr",
     "output_type": "stream",
     "text": [
      "/home/qpitto/Tests_KAIN/ZORA/response/src/scfsolv.py:122: ComplexWarning: Casting complex values to real discards the imaginary part\n",
      "  self.G_mu.append(vp.HelmholtzOperator(self.mra, mu, self.prec))  # Initalize the operator\n"
     ]
    },
    {
     "name": "stdout",
     "output_type": "stream",
     "text": [
      "Overlap init post-powerIter\n",
      "S= [[ 1.        +0.j -0.01020532+0.j]\n",
      " [-0.01020532-0.j  1.        +0.j]]\n",
      "orthonorm eigvals= [0.98979468 1.01020532]\n",
      "Overlap init end\n",
      "S= [[ 1.00000000e+00+0.j -7.18696897e-17+0.j]\n",
      " [-7.18696897e-17-0.j  1.00000000e+00+0.j]]\n"
     ]
    }
   ],
   "source": [
    "from vampyr import vampyr3d as vp\n",
    "import numpy as np\n",
    "import matplotlib.pyplot as plt\n",
    "# from copy import deepcopy\n",
    "\n",
    "# import KAIN\n",
    "import utils\n",
    "from scfsolv import scfsolv as ss\n",
    "from scfsolv import scfsolv_1stpert as ss1\n",
    "\n",
    "\n",
    "prec = 1.0e-5\n",
    "khist = 5\n",
    "thrs = prec*10\n",
    "# Pord = 1 #maximum pertubation order computed\n",
    "\n",
    "# r_x = np.linspace(-16, 16, 10000) # create an evenly spaced set of points between -0.99 and 0.99\n",
    "# r_y = np.linspace(-16, 16, 10000)\n",
    "# r_z = np.linspace(-16, 16, 10000)\n",
    "# r = [r_x, r_y, r_z]\n",
    "\n",
    "print(\"testLC: \", utils.LeviCivita([1,2,3]), utils.LeviCivita([1,1,3]), utils.LeviCivita([2,1,3]))\n",
    "\n",
    "# Electric_field = [0.01, 0., 0.]\n",
    "Electric_field = [0.01, 0., 0.]\n",
    "# Analytic nuclear potential\n",
    "# print(\"pouet\")\n",
    "#LiH\n",
    "R, Z, pathMol, nOrb = [[1.508001,  0.188973, 0.188973], [-1.508001,  0.188973, 0.188973]], [3,1], \"/home/qpitto/Tests_KAIN/test_LiH/norun/orbitals/\", 2 #Initial guess\n",
    "# R, Z, pathMol, nOrb = [[1.508001,  0.188973, 0.188973], [-1.508001,  0.188973, 0.188973]], [3,1], \"/home/qpitto/Tests_KAIN/test_LiH/run/orbitals/\", 2 #LiH\n",
    "#Ne\n",
    "# R, Z, pathMol, nOrb = [[0.100, 0.100, 0.100]], [10], \"/home/qpitto/Tests_KAIN/test_Ne/norun/orbitals/phi_p_scf_\", 5 #Ne\n",
    "#H2O\n",
    "# R, Z, pathMol, nOrb = [[0.0000,  0.000, -0.125], [-1.4375,  0.000,  1.025], [1.4375,  0.000,  1.025]], [8,1,1], \"/home/qpitto/Tests_KAIN/test_water/run/orbitals/\", 5 #H2O\n",
    "# R, Z, pathMol, nOrb = [[0.0000,  0.000, -0.125], [-1.4375,  0.000,  1.025], [1.4375,  0.000,  1.025]], [8,1,1], \"/home/qpitto/Tests_KAIN/initial_guesses/phi_p_scf_\", 5 #H2O\n",
    "#CH4\n",
    "# R, Z, pathMol, nOrb = [[0.1, 0.1, 0.1], [0.1, 0.1, 2.15413215], [2.03631019, 0.1, -0.5856834], [-0.54635362, 1.92524633, -0.5856834], [-0.54635362, -1.72524633, -0.5856834]], [6,1,1,1,1], \"/home/qpitto/Tests_KAIN/test_CH4/norun/orbitals/\", 5 #CH4\n",
    "\n",
    "nz = len(Z)\n",
    "\n",
    "#create scf solver instance with default MRA\n",
    "Scfs = ss(prec, khist)\n",
    "\n",
    "\n",
    "# tut = [[-1.514986e+00, -8.879809e-02],\n",
    "# [-8.879809e-02, 1.188349e+00]]\n",
    "# print(np.linalg.eig(tut))\n",
    "\n",
    "#initialise molecule geometry and properties\n",
    "Scfs.initMolec(nOrb, R, Z, pathMol)\n",
    "#run the SCF solver\n",
    "# Scfs.scfRun(thrs, True, True)\n",
    "\n",
    "# print(\"Sanity test\")\n",
    "# for i in range(len(Scfs.phi_prev)):\n",
    "#     for j in range(len(Scfs.phi_prev)):\n",
    "#         print(f\"Test: {i}, {j}\", vp.dot(Scfs.phi_prev[i][-1], Scfs.phi_prev[j][-1]))\n",
    "\n",
    "# print(\"Start perturbation\")\n",
    "# Scfs_pert = ss1(Scfs)\n",
    "\n",
    "# print(\"Contructor passed\")\n",
    "# Scfs_pert.initMolec(Electric_field)\n",
    "# # Scfs_pert.print_operators()\n",
    "\n",
    "# Scfs_pert.scfRun(thrs, True, True)"
   ]
  }
 ],
 "metadata": {
  "kernelspec": {
   "display_name": "Stdpy",
   "language": "python",
   "name": "python3"
  },
  "language_info": {
   "codemirror_mode": {
    "name": "ipython",
    "version": 3
   },
   "file_extension": ".py",
   "mimetype": "text/x-python",
   "name": "python",
   "nbconvert_exporter": "python",
   "pygments_lexer": "ipython3",
   "version": "3.9.15"
  },
  "orig_nbformat": 4
 },
 "nbformat": 4,
 "nbformat_minor": 2
}
